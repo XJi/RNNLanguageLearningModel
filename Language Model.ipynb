{
 "cells": [
  {
   "cell_type": "code",
   "execution_count": null,
   "metadata": {
    "collapsed": false
   },
   "outputs": [],
   "source": [
    "import re\n",
    "import nltk\n",
    "import random\n",
    "import numpy as np"
   ]
  },
  {
   "cell_type": "code",
   "execution_count": null,
   "metadata": {
    "collapsed": false
   },
   "outputs": [],
   "source": [
    "from keras.preprocessing.text import one_hot\n",
    "from keras.models import Sequential\n",
    "from keras.layers import LSTM\n",
    "from keras.layers import Dense, Dropout, Activation, Embedding\n",
    "from keras.utils.np_utils import to_categorical"
   ]
  },
  {
   "cell_type": "code",
   "execution_count": null,
   "metadata": {
    "collapsed": false
   },
   "outputs": [],
   "source": [
    "np.random.seed(7)\n",
    "nb_word_class = 6"
   ]
  },
  {
   "cell_type": "markdown",
   "metadata": {},
   "source": [
    "## Tag the training data"
   ]
  },
  {
   "cell_type": "code",
   "execution_count": null,
   "metadata": {
    "collapsed": true
   },
   "outputs": [],
   "source": [
    "def clean_sentence(s):\n",
    "    c = s.lower().strip()\n",
    "    return re.sub('[^a-z ]', '', c)"
   ]
  },
  {
   "cell_type": "code",
   "execution_count": null,
   "metadata": {
    "collapsed": true
   },
   "outputs": [],
   "source": [
    "def translate_word_class(tag):\n",
    "    if tag in ['JJ', 'JJR', 'JJS']:\n",
    "        return 1 #'adjective'\n",
    "    if tag in ['NN', 'NNS', 'NNP', 'NNPS']:\n",
    "        return 2 #'noun'\n",
    "    if tag in ['VB', 'VBD', 'VBG', 'VBN', 'VBP', 'VBZ']:\n",
    "        return 3 #'verb'\n",
    "    if tag in ['CC', 'IN']:\n",
    "        return 4 #'link'\n",
    "    return 0 #'other'"
   ]
  },
  {
   "cell_type": "code",
   "execution_count": null,
   "metadata": {
    "collapsed": true
   },
   "outputs": [],
   "source": [
    "def map_tagging(sentence):\n",
    "    translation = list()\n",
    "    for word, tag in sentence:\n",
    "        translation.append((word, translate_word_class(tag)))\n",
    "    return translation"
   ]
  },
  {
   "cell_type": "code",
   "execution_count": null,
   "metadata": {
    "collapsed": true
   },
   "outputs": [],
   "source": [
    "def map_encoding(sentence):\n",
    "    encoded = list()\n",
    "    for word, tag in sentence:\n",
    "        encodedInt = one_hot(word,30000)[0]\n",
    "        encoded.append([encodedInt,tag])\n",
    "    return encoded        "
   ]
  },
  {
   "cell_type": "code",
   "execution_count": null,
   "metadata": {
    "collapsed": true
   },
   "outputs": [],
   "source": [
    "END = 5\n",
    "def sentence_labeling(sentence):\n",
    "    labels = list()\n",
    "    for word, tag in sentence[1:]:\n",
    "        labels.append(tag)\n",
    "    labels.append(END)\n",
    "    return labels"
   ]
  },
  {
   "cell_type": "code",
   "execution_count": null,
   "metadata": {
    "collapsed": true
   },
   "outputs": [],
   "source": [
    "def tag_words(sentences):\n",
    "    tagged_words = list()\n",
    "    for sentence in sentences:\n",
    "        words = nltk.word_tokenize(sentence)\n",
    "        tagged_words.append(nltk.pos_tag(words))\n",
    "    return tagged_words"
   ]
  },
  {
   "cell_type": "code",
   "execution_count": null,
   "metadata": {
    "collapsed": false
   },
   "outputs": [],
   "source": [
    "def flatten(l):\n",
    "    return [item for sublist in l for item in sublist]"
   ]
  },
  {
   "cell_type": "code",
   "execution_count": null,
   "metadata": {
    "collapsed": true
   },
   "outputs": [],
   "source": [
    "def create_Ymatrix(numbers):\n",
    "    matrix = np.zeros((len(numbers),1))\n",
    "    i = 0\n",
    "    for number in numbers:\n",
    "        matrix[i] = number\n",
    "        i=i+1\n",
    "    return matrix"
   ]
  },
  {
   "cell_type": "code",
   "execution_count": null,
   "metadata": {
    "collapsed": true
   },
   "outputs": [],
   "source": [
    "def create_Xmatrix(numbers,size,var_index):\n",
    "    matrix = np.zeros((size,1))\n",
    "    sub_matrix = np.zeros((1))\n",
    "    i = 0\n",
    "    for number in numbers:\n",
    "        sub_matrix[0] = number[var_index]\n",
    "        matrix[i][0] = sub_matrix\n",
    "        i=i+1\n",
    "    return matrix"
   ]
  },
  {
   "cell_type": "code",
   "execution_count": null,
   "metadata": {
    "collapsed": false
   },
   "outputs": [],
   "source": [
    "train_sentences = list()\n",
    "with open('./data_set/training_set70.txt') as train:\n",
    "    for line in train:\n",
    "        train_sentences.append(clean_sentence(line))\n",
    "\n",
    "test_sentences = list()\n",
    "with open('./data_set/test_set25.txt') as train:\n",
    "    for line in train:\n",
    "        test_sentences.append(clean_sentence(line))\n"
   ]
  },
  {
   "cell_type": "code",
   "execution_count": null,
   "metadata": {
    "collapsed": false
   },
   "outputs": [],
   "source": [
    "tagged_sentences = tag_words(train_sentences)\n",
    "tagged_sentences_test = tag_words(test_sentences)"
   ]
  },
  {
   "cell_type": "code",
   "execution_count": null,
   "metadata": {
    "collapsed": false
   },
   "outputs": [],
   "source": [
    "tagged_sentences[:5]\n",
    "tagged_sentences_test[:5]"
   ]
  },
  {
   "cell_type": "code",
   "execution_count": null,
   "metadata": {
    "collapsed": true
   },
   "outputs": [],
   "source": [
    "my_tagged_sentences = list(map(map_tagging, tagged_sentences))\n",
    "test_tagged_sentences = list(map(map_tagging, tagged_sentences_test))"
   ]
  },
  {
   "cell_type": "code",
   "execution_count": null,
   "metadata": {
    "collapsed": false
   },
   "outputs": [],
   "source": [
    "my_tagged_sentences[:5]\n",
    "my_tagged_sentences.reverse()\n",
    "print(my_tagged_sentences[2])"
   ]
  },
  {
   "cell_type": "code",
   "execution_count": null,
   "metadata": {
    "collapsed": false
   },
   "outputs": [],
   "source": [
    "x = flatten(map(map_encoding, my_tagged_sentences))\n",
    "test = flatten(map(map_encoding, test_tagged_sentences))\n"
   ]
  },
  {
   "cell_type": "code",
   "execution_count": null,
   "metadata": {
    "collapsed": false
   },
   "outputs": [],
   "source": [
    "create_Ymatrix(flatten(map(sentence_labeling,my_tagged_sentences)))"
   ]
  },
  {
   "cell_type": "code",
   "execution_count": null,
   "metadata": {
    "collapsed": false
   },
   "outputs": [],
   "source": [
    "x_train = create_Xmatrix(x,len(x),0)\n",
    "y_train = to_categorical(flatten(map(sentence_labeling,my_tagged_sentences)),nb_word_class)\n",
    "x_test = create_Xmatrix(test,len(test),0)\n",
    "y_test = to_categorical(flatten(map(sentence_labeling,test_tagged_sentences)),nb_word_class)\n",
    "\n",
    "#print('X_train shape:', x_train.shape)\n",
    "#print('X_test shape:', x_test.shape)\n",
    "#print('y_train shape:', y_train.shape)\n",
    "#print('y_test shape:', y_test.shape)\n",
    "#print(y_train)\n",
    "#print(x_test)"
   ]
  },
  {
   "cell_type": "code",
   "execution_count": null,
   "metadata": {
    "collapsed": false
   },
   "outputs": [],
   "source": [
    "print('Build model...')\n",
    "model = Sequential()\n",
    "model.add(Embedding(30000,256, dropout=0.2))\n",
    "model.add(LSTM(8, dropout_W=0.2, dropout_U=0.2))  # try using a GRU instead, for fun\n",
    "model.add(Dense(nb_word_class))\n",
    "model.add(Activation('sigmoid'))\n",
    "\n",
    "# try using different optimizers and different optimizer configs\n",
    "model.compile(loss='categorical_crossentropy',\n",
    "              optimizer='adam',\n",
    "              metrics=['accuracy'])\n",
    "\n",
    "print('Train...')\n",
    "model.fit(x_train, y_train, batch_size=328, nb_epoch=20,\n",
    "         validation_data=(x_test, y_test),shuffle=False)\n",
    "score, acc = model.evaluate(x_test, y_test,\n",
    "                            batch_size=328)\n",
    "print('Test score:', score)\n",
    "print('Test accuracy:', acc)"
   ]
  },
  {
   "cell_type": "code",
   "execution_count": null,
   "metadata": {
    "collapsed": false
   },
   "outputs": [],
   "source": [
    "reverse_train_sentences = list(train_sentences)\n",
    "reverse_train_sentences.reverse()\n",
    "\n",
    "random_train_sentences = list(train_sentences)\n",
    "random.shuffle(random_train_sentences)\n"
   ]
  },
  {
   "cell_type": "code",
   "execution_count": null,
   "metadata": {
    "collapsed": true
   },
   "outputs": [],
   "source": []
  },
  {
   "cell_type": "code",
   "execution_count": null,
   "metadata": {
    "collapsed": true
   },
   "outputs": [],
   "source": []
  }
 ],
 "metadata": {
  "kernelspec": {
   "display_name": "Python 3",
   "language": "python",
   "name": "python3"
  },
  "language_info": {
   "codemirror_mode": {
    "name": "ipython",
    "version": 3
   },
   "file_extension": ".py",
   "mimetype": "text/x-python",
   "name": "python",
   "nbconvert_exporter": "python",
   "pygments_lexer": "ipython3",
   "version": "3.5.0"
  }
 },
 "nbformat": 4,
 "nbformat_minor": 0
}
