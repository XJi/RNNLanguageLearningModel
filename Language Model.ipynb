{
 "cells": [
  {
   "cell_type": "code",
   "execution_count": 84,
   "metadata": {
    "collapsed": false
   },
   "outputs": [],
   "source": [
    "import re\n",
    "import nltk\n",
    "import numpy"
   ]
  },
  {
   "cell_type": "code",
   "execution_count": 85,
   "metadata": {
    "collapsed": false
   },
   "outputs": [],
   "source": [
    "from keras.preprocessing.text import one_hot\n",
    "from keras.models import Sequential\n",
    "from keras.layers import LSTM"
   ]
  },
  {
   "cell_type": "code",
   "execution_count": 87,
   "metadata": {
    "collapsed": true
   },
   "outputs": [],
   "source": [
    "numpy.random.seed(7)"
   ]
  },
  {
   "cell_type": "markdown",
   "metadata": {},
   "source": [
    "## Tag the training data"
   ]
  },
  {
   "cell_type": "code",
   "execution_count": 86,
   "metadata": {
    "collapsed": true
   },
   "outputs": [],
   "source": [
    "def clean_sentence(s):\n",
    "    c = s.lower().strip()\n",
    "    return re.sub('[^a-z ]', '', c)"
   ]
  },
  {
   "cell_type": "code",
   "execution_count": 58,
   "metadata": {
    "collapsed": true
   },
   "outputs": [],
   "source": [
    "def translate_word_class(tag):\n",
    "    if tag in ['JJ', 'JJR', 'JJS']:\n",
    "        return 1 #'adjective'\n",
    "    if tag in ['NN', 'NNS', 'NNP', 'NNPS']:\n",
    "        return 2 #'noun'\n",
    "    if tag in ['VB', 'VBD', 'VBG', 'VBN', 'VBP', 'VBZ']:\n",
    "        return 3 #'verb'\n",
    "    if tag in ['CC', 'IN']:\n",
    "        return 4 #'link'\n",
    "    return 5 #'other'"
   ]
  },
  {
   "cell_type": "code",
   "execution_count": 9,
   "metadata": {
    "collapsed": true
   },
   "outputs": [],
   "source": [
    "def map_tagging(sentence):\n",
    "    translation = list()\n",
    "    for word, tag in sentence:\n",
    "        translation.append((word, translate_word_class(tag)))\n",
    "    return translation"
   ]
  },
  {
   "cell_type": "code",
   "execution_count": 30,
   "metadata": {
    "collapsed": true
   },
   "outputs": [],
   "source": [
    "def map_encoding(sentence):\n",
    "    encoded = list()\n",
    "    for word, tag in sentence:\n",
    "        encodedInt = one_hot(word,300000)[0]\n",
    "        encoded.append((encodedInt,tag))\n",
    "    return encoded        "
   ]
  },
  {
   "cell_type": "code",
   "execution_count": 59,
   "metadata": {
    "collapsed": true
   },
   "outputs": [],
   "source": [
    "END = 6\n",
    "def sentence_labeling(sentence):\n",
    "    labels = list()\n",
    "    for word, tag in sentence[1:]:\n",
    "        labels.append(tag)\n",
    "    labels.append(END)\n",
    "    return labels"
   ]
  },
  {
   "cell_type": "code",
   "execution_count": 56,
   "metadata": {
    "collapsed": false
   },
   "outputs": [],
   "source": [
    "def flatten(l):\n",
    "    return [item for sublist in l for item in sublist]"
   ]
  },
  {
   "cell_type": "code",
   "execution_count": 60,
   "metadata": {
    "collapsed": false
   },
   "outputs": [],
   "source": [
    "train_sentences = list()\n",
    "with open('./data_set/training_set70.txt') as train:\n",
    "    for line in train:\n",
    "        train_sentences.append(clean_sentence(line))"
   ]
  },
  {
   "cell_type": "code",
   "execution_count": 61,
   "metadata": {
    "collapsed": false
   },
   "outputs": [
    {
     "data": {
      "text/plain": [
       "['correct', 'dick agreed', 'sorry wrong', 'where is mary', 'he is happy now']"
      ]
     },
     "execution_count": 61,
     "metadata": {},
     "output_type": "execute_result"
    }
   ],
   "source": [
    "train_sentences[:5]"
   ]
  },
  {
   "cell_type": "code",
   "execution_count": 62,
   "metadata": {
    "collapsed": false
   },
   "outputs": [],
   "source": [
    "tagged_sentences = list()\n",
    "for sentence in train_sentences:\n",
    "    words = nltk.word_tokenize(sentence)\n",
    "    tagged_sentences.append(nltk.pos_tag(words))"
   ]
  },
  {
   "cell_type": "code",
   "execution_count": 64,
   "metadata": {
    "collapsed": false
   },
   "outputs": [
    {
     "data": {
      "text/plain": [
       "[[('correct', 'NN')],\n",
       " [('dick', 'NNS'), ('agreed', 'VBD')],\n",
       " [('sorry', 'NN'), ('wrong', 'JJ')],\n",
       " [('where', 'WRB'), ('is', 'VBZ'), ('mary', 'JJ')],\n",
       " [('he', 'PRP'), ('is', 'VBZ'), ('happy', 'JJ'), ('now', 'RB')]]"
      ]
     },
     "execution_count": 64,
     "metadata": {},
     "output_type": "execute_result"
    }
   ],
   "source": [
    "tagged_sentences[:5]"
   ]
  },
  {
   "cell_type": "code",
   "execution_count": 65,
   "metadata": {
    "collapsed": true
   },
   "outputs": [],
   "source": [
    "my_tagged_sentences = list(map(map_tagging, tagged_sentences))"
   ]
  },
  {
   "cell_type": "code",
   "execution_count": 66,
   "metadata": {
    "collapsed": false
   },
   "outputs": [
    {
     "data": {
      "text/plain": [
       "[[('correct', 2)],\n",
       " [('dick', 2), ('agreed', 3)],\n",
       " [('sorry', 2), ('wrong', 1)],\n",
       " [('where', 5), ('is', 3), ('mary', 1)],\n",
       " [('he', 5), ('is', 3), ('happy', 1), ('now', 5)]]"
      ]
     },
     "execution_count": 66,
     "metadata": {},
     "output_type": "execute_result"
    }
   ],
   "source": [
    "my_tagged_sentences[:5]"
   ]
  },
  {
   "cell_type": "code",
   "execution_count": 78,
   "metadata": {
    "collapsed": false
   },
   "outputs": [],
   "source": [
    "x = flatten(map(map_encoding, my_tagged_sentences))"
   ]
  },
  {
   "cell_type": "code",
   "execution_count": 81,
   "metadata": {
    "collapsed": false
   },
   "outputs": [
    {
     "data": {
      "text/plain": [
       "[(65806, 2), (253317, 2), (230520, 3), (232498, 2), (95297, 1)]"
      ]
     },
     "execution_count": 81,
     "metadata": {},
     "output_type": "execute_result"
    }
   ],
   "source": [
    "x[:5]"
   ]
  },
  {
   "cell_type": "code",
   "execution_count": 82,
   "metadata": {
    "collapsed": false
   },
   "outputs": [],
   "source": [
    "y = flatten(map(sentence_labeling, my_tagged_sentences))"
   ]
  },
  {
   "cell_type": "code",
   "execution_count": 83,
   "metadata": {
    "collapsed": false
   },
   "outputs": [
    {
     "data": {
      "text/plain": [
       "[6, 3, 6, 1, 6]"
      ]
     },
     "execution_count": 83,
     "metadata": {},
     "output_type": "execute_result"
    }
   ],
   "source": [
    "y[:5]"
   ]
  },
  {
   "cell_type": "code",
   "execution_count": 92,
   "metadata": {
    "collapsed": false
   },
   "outputs": [],
   "source": [
    "model = Sequential()\n",
    "model.add(LSTM(1, input_dim=2))\n",
    "model.compile(optimizer='adam',loss='categorical_crossentropy',metrics=['accuracy'])"
   ]
  },
  {
   "cell_type": "code",
   "execution_count": 93,
   "metadata": {
    "collapsed": false
   },
   "outputs": [
    {
     "ename": "Exception",
     "evalue": "Error when checking model input: expected lstm_input_3 to have 3 dimensions, but got array with shape (328, 2)",
     "output_type": "error",
     "traceback": [
      "\u001b[0;31m---------------------------------------------------------------------------\u001b[0m",
      "\u001b[0;31mException\u001b[0m                                 Traceback (most recent call last)",
      "\u001b[0;32m<ipython-input-93-d3e57f3c2f8b>\u001b[0m in \u001b[0;36m<module>\u001b[0;34m()\u001b[0m\n\u001b[0;32m----> 1\u001b[0;31m \u001b[0mmodel\u001b[0m\u001b[0;34m.\u001b[0m\u001b[0mfit\u001b[0m\u001b[0;34m(\u001b[0m\u001b[0mx\u001b[0m\u001b[0;34m,\u001b[0m\u001b[0my\u001b[0m\u001b[0;34m,\u001b[0m\u001b[0mnb_epoch\u001b[0m\u001b[0;34m=\u001b[0m\u001b[0;36m3\u001b[0m\u001b[0;34m,\u001b[0m\u001b[0mbatch_size\u001b[0m\u001b[0;34m=\u001b[0m\u001b[0;36m1\u001b[0m\u001b[0;34m)\u001b[0m\u001b[0;34m\u001b[0m\u001b[0m\n\u001b[0m",
      "\u001b[0;32m/Library/Frameworks/Python.framework/Versions/3.5/lib/python3.5/site-packages/keras/models.py\u001b[0m in \u001b[0;36mfit\u001b[0;34m(self, x, y, batch_size, nb_epoch, verbose, callbacks, validation_split, validation_data, shuffle, class_weight, sample_weight, **kwargs)\u001b[0m\n\u001b[1;32m    625\u001b[0m                               \u001b[0mshuffle\u001b[0m\u001b[0;34m=\u001b[0m\u001b[0mshuffle\u001b[0m\u001b[0;34m,\u001b[0m\u001b[0;34m\u001b[0m\u001b[0m\n\u001b[1;32m    626\u001b[0m                               \u001b[0mclass_weight\u001b[0m\u001b[0;34m=\u001b[0m\u001b[0mclass_weight\u001b[0m\u001b[0;34m,\u001b[0m\u001b[0;34m\u001b[0m\u001b[0m\n\u001b[0;32m--> 627\u001b[0;31m                               sample_weight=sample_weight)\n\u001b[0m\u001b[1;32m    628\u001b[0m \u001b[0;34m\u001b[0m\u001b[0m\n\u001b[1;32m    629\u001b[0m     def evaluate(self, x, y, batch_size=32, verbose=1,\n",
      "\u001b[0;32m/Library/Frameworks/Python.framework/Versions/3.5/lib/python3.5/site-packages/keras/engine/training.py\u001b[0m in \u001b[0;36mfit\u001b[0;34m(self, x, y, batch_size, nb_epoch, verbose, callbacks, validation_split, validation_data, shuffle, class_weight, sample_weight)\u001b[0m\n\u001b[1;32m   1050\u001b[0m                                                            \u001b[0mclass_weight\u001b[0m\u001b[0;34m=\u001b[0m\u001b[0mclass_weight\u001b[0m\u001b[0;34m,\u001b[0m\u001b[0;34m\u001b[0m\u001b[0m\n\u001b[1;32m   1051\u001b[0m                                                            \u001b[0mcheck_batch_dim\u001b[0m\u001b[0;34m=\u001b[0m\u001b[0;32mFalse\u001b[0m\u001b[0;34m,\u001b[0m\u001b[0;34m\u001b[0m\u001b[0m\n\u001b[0;32m-> 1052\u001b[0;31m                                                            batch_size=batch_size)\n\u001b[0m\u001b[1;32m   1053\u001b[0m         \u001b[0;31m# prepare validation data\u001b[0m\u001b[0;34m\u001b[0m\u001b[0;34m\u001b[0m\u001b[0m\n\u001b[1;32m   1054\u001b[0m         \u001b[0;32mif\u001b[0m \u001b[0mvalidation_data\u001b[0m\u001b[0;34m:\u001b[0m\u001b[0;34m\u001b[0m\u001b[0m\n",
      "\u001b[0;32m/Library/Frameworks/Python.framework/Versions/3.5/lib/python3.5/site-packages/keras/engine/training.py\u001b[0m in \u001b[0;36m_standardize_user_data\u001b[0;34m(self, x, y, sample_weight, class_weight, check_batch_dim, batch_size)\u001b[0m\n\u001b[1;32m    977\u001b[0m                                    \u001b[0mself\u001b[0m\u001b[0;34m.\u001b[0m\u001b[0minternal_input_shapes\u001b[0m\u001b[0;34m,\u001b[0m\u001b[0;34m\u001b[0m\u001b[0m\n\u001b[1;32m    978\u001b[0m                                    \u001b[0mcheck_batch_dim\u001b[0m\u001b[0;34m=\u001b[0m\u001b[0;32mFalse\u001b[0m\u001b[0;34m,\u001b[0m\u001b[0;34m\u001b[0m\u001b[0m\n\u001b[0;32m--> 979\u001b[0;31m                                    exception_prefix='model input')\n\u001b[0m\u001b[1;32m    980\u001b[0m         y = standardize_input_data(y, self.output_names,\n\u001b[1;32m    981\u001b[0m                                    \u001b[0moutput_shapes\u001b[0m\u001b[0;34m,\u001b[0m\u001b[0;34m\u001b[0m\u001b[0m\n",
      "\u001b[0;32m/Library/Frameworks/Python.framework/Versions/3.5/lib/python3.5/site-packages/keras/engine/training.py\u001b[0m in \u001b[0;36mstandardize_input_data\u001b[0;34m(data, names, shapes, check_batch_dim, exception_prefix)\u001b[0m\n\u001b[1;32m     98\u001b[0m                                 \u001b[0;34m' to have '\u001b[0m \u001b[0;34m+\u001b[0m \u001b[0mstr\u001b[0m\u001b[0;34m(\u001b[0m\u001b[0mlen\u001b[0m\u001b[0;34m(\u001b[0m\u001b[0mshapes\u001b[0m\u001b[0;34m[\u001b[0m\u001b[0mi\u001b[0m\u001b[0;34m]\u001b[0m\u001b[0;34m)\u001b[0m\u001b[0;34m)\u001b[0m \u001b[0;34m+\u001b[0m\u001b[0;34m\u001b[0m\u001b[0m\n\u001b[1;32m     99\u001b[0m                                 \u001b[0;34m' dimensions, but got array with shape '\u001b[0m \u001b[0;34m+\u001b[0m\u001b[0;34m\u001b[0m\u001b[0m\n\u001b[0;32m--> 100\u001b[0;31m                                 str(array.shape))\n\u001b[0m\u001b[1;32m    101\u001b[0m             \u001b[0;32mfor\u001b[0m \u001b[0mj\u001b[0m\u001b[0;34m,\u001b[0m \u001b[0;34m(\u001b[0m\u001b[0mdim\u001b[0m\u001b[0;34m,\u001b[0m \u001b[0mref_dim\u001b[0m\u001b[0;34m)\u001b[0m \u001b[0;32min\u001b[0m \u001b[0menumerate\u001b[0m\u001b[0;34m(\u001b[0m\u001b[0mzip\u001b[0m\u001b[0;34m(\u001b[0m\u001b[0marray\u001b[0m\u001b[0;34m.\u001b[0m\u001b[0mshape\u001b[0m\u001b[0;34m,\u001b[0m \u001b[0mshapes\u001b[0m\u001b[0;34m[\u001b[0m\u001b[0mi\u001b[0m\u001b[0;34m]\u001b[0m\u001b[0;34m)\u001b[0m\u001b[0;34m)\u001b[0m\u001b[0;34m:\u001b[0m\u001b[0;34m\u001b[0m\u001b[0m\n\u001b[1;32m    102\u001b[0m                 \u001b[0;32mif\u001b[0m \u001b[0;32mnot\u001b[0m \u001b[0mj\u001b[0m \u001b[0;32mand\u001b[0m \u001b[0;32mnot\u001b[0m \u001b[0mcheck_batch_dim\u001b[0m\u001b[0;34m:\u001b[0m\u001b[0;34m\u001b[0m\u001b[0m\n",
      "\u001b[0;31mException\u001b[0m: Error when checking model input: expected lstm_input_3 to have 3 dimensions, but got array with shape (328, 2)"
     ]
    }
   ],
   "source": [
    "model.fit(x,y,nb_epoch=3,batch_size=1)"
   ]
  },
  {
   "cell_type": "code",
   "execution_count": 96,
   "metadata": {
    "collapsed": false
   },
   "outputs": [
    {
     "data": {
      "text/plain": [
       "matrix([[ 65806,      2],\n",
       "        [253317,      2],\n",
       "        [230520,      3],\n",
       "        [232498,      2],\n",
       "        [ 95297,      1],\n",
       "        [250561,      5],\n",
       "        [123789,      3],\n",
       "        [ 69480,      1],\n",
       "        [106348,      5],\n",
       "        [123789,      3],\n",
       "        [208507,      1],\n",
       "        [180038,      5],\n",
       "        [253317,      2],\n",
       "        [ 33211,      3],\n",
       "        [142580,      5],\n",
       "        [138178,      2],\n",
       "        [250561,      5],\n",
       "        [123789,      3],\n",
       "        [142679,      1],\n",
       "        [225909,      2],\n",
       "        [201797,      3],\n",
       "        [142915,      5],\n",
       "        [265412,      2],\n",
       "        [252006,      5],\n",
       "        [190366,      2],\n",
       "        [ 83718,      5],\n",
       "        [  7787,      2],\n",
       "        [233862,      3],\n",
       "        [ 57347,      5],\n",
       "        [138178,      2],\n",
       "        [  7787,      1],\n",
       "        [ 52412,      3],\n",
       "        [ 76173,      4],\n",
       "        [142580,      5],\n",
       "        [151652,      1],\n",
       "        [281774,      5],\n",
       "        [164770,      3],\n",
       "        [ 85672,      2],\n",
       "        [176947,      2],\n",
       "        [128496,      3],\n",
       "        [142580,      5],\n",
       "        [ 36537,      2],\n",
       "        [114875,      2],\n",
       "        [193083,      3],\n",
       "        [ 44783,      2],\n",
       "        [252006,      2],\n",
       "        [233331,      5],\n",
       "        [123789,      3],\n",
       "        [ 65806,      1],\n",
       "        [232498,      2],\n",
       "        [190366,      3],\n",
       "        [150057,      5],\n",
       "        [ 65234,      5],\n",
       "        [120943,      5],\n",
       "        [180752,      2],\n",
       "        [159914,      3],\n",
       "        [ 39799,      3],\n",
       "        [127135,      2],\n",
       "        [134876,      3],\n",
       "        [ 19045,      1],\n",
       "        [281774,      5],\n",
       "        [122080,      3],\n",
       "        [ 69690,      2],\n",
       "        [250561,      5],\n",
       "        [123789,      3],\n",
       "        [120943,      5],\n",
       "        [ 49342,      2],\n",
       "        [142679,      2],\n",
       "        [247950,      3],\n",
       "        [120943,      5],\n",
       "        [265412,      2],\n",
       "        [120943,      5],\n",
       "        [261007,      2],\n",
       "        [159914,      3],\n",
       "        [204431,      3],\n",
       "        [296099,      5],\n",
       "        [233331,      5],\n",
       "        [123789,      3],\n",
       "        [173749,      1],\n",
       "        [  7787,      2],\n",
       "        [126946,      3],\n",
       "        [ 19776,      5],\n",
       "        [260254,      1],\n",
       "        [ 64789,      2],\n",
       "        [ 51008,      2],\n",
       "        [159914,      3],\n",
       "        [142580,      5],\n",
       "        [221077,      2],\n",
       "        [ 55989,      2],\n",
       "        [297964,      2],\n",
       "        [206521,      3],\n",
       "        [142580,      5],\n",
       "        [ 40617,      1],\n",
       "        [196668,      2],\n",
       "        [136112,      2],\n",
       "        [238619,      2],\n",
       "        [123789,      3],\n",
       "        [142580,      5],\n",
       "        [136052,      2],\n",
       "        [136720,      2],\n",
       "        [128496,      3],\n",
       "        [ 47123,      2],\n",
       "        [ 93420,      2],\n",
       "        [126946,      3],\n",
       "        [ 57347,      5],\n",
       "        [164023,      2],\n",
       "        [148735,      2],\n",
       "        [ 52412,      3],\n",
       "        [275746,      5],\n",
       "        [120943,      5],\n",
       "        [ 32830,      2],\n",
       "        [ 69480,      2],\n",
       "        [178272,      3],\n",
       "        [147350,      5],\n",
       "        [120943,      5],\n",
       "        [265412,      2],\n",
       "        [ 75920,      2],\n",
       "        [213244,      3],\n",
       "        [142580,      5],\n",
       "        [122050,      1],\n",
       "        [104039,      2],\n",
       "        [106348,      5],\n",
       "        [221649,      3],\n",
       "        [142580,      5],\n",
       "        [173727,      1],\n",
       "        [156756,      2],\n",
       "        [240376,      5],\n",
       "        [166752,      2],\n",
       "        [159914,      3],\n",
       "        [ 46113,      3],\n",
       "        [245187,      2],\n",
       "        [286763,      2],\n",
       "        [159914,      3],\n",
       "        [152934,      3],\n",
       "        [  4093,      2],\n",
       "        [ 83363,      3],\n",
       "        [ 18339,      1],\n",
       "        [119825,      2],\n",
       "        [ 69480,      1],\n",
       "        [263202,      3],\n",
       "        [275746,      5],\n",
       "        [120943,      5],\n",
       "        [298467,      2],\n",
       "        [117360,      5],\n",
       "        [134876,      3],\n",
       "        [142580,      5],\n",
       "        [ 16298,      1],\n",
       "        [ 62823,      2],\n",
       "        [ 19776,      5],\n",
       "        [  5253,      2],\n",
       "        [159914,      3],\n",
       "        [295709,      1],\n",
       "        [281774,      2],\n",
       "        [159914,      3],\n",
       "        [ 16510,      3],\n",
       "        [ 69690,      2],\n",
       "        [289267,      2],\n",
       "        [128701,      3],\n",
       "        [120943,      5],\n",
       "        [223427,      2],\n",
       "        [151326,      2],\n",
       "        [179839,      2],\n",
       "        [210775,      3],\n",
       "        [ 42719,      5],\n",
       "        [142580,      5],\n",
       "        [ 54338,      1],\n",
       "        [192391,      5],\n",
       "        [281774,      5],\n",
       "        [263570,      3],\n",
       "        [275746,      5],\n",
       "        [ 48071,      3],\n",
       "        [ 85672,      2],\n",
       "        [154266,      5],\n",
       "        [206521,      3],\n",
       "        [142580,      5],\n",
       "        [154124,      1],\n",
       "        [ 94416,      2],\n",
       "        [196668,      2],\n",
       "        [ 69480,      1],\n",
       "        [ 33211,      3],\n",
       "        [120943,      5],\n",
       "        [ 49342,      2],\n",
       "        [152002,      5],\n",
       "        [ 19463,      2],\n",
       "        [159914,      3],\n",
       "        [ 42180,      3],\n",
       "        [188519,      4],\n",
       "        [120943,      5],\n",
       "        [ 97091,      2],\n",
       "        [127135,      2],\n",
       "        [128496,      3],\n",
       "        [142580,      5],\n",
       "        [232818,      1],\n",
       "        [ 14821,      2],\n",
       "        [282746,      2],\n",
       "        [ 24212,      2],\n",
       "        [288620,      2],\n",
       "        [142531,      4],\n",
       "        [120943,      5],\n",
       "        [ 83117,      2],\n",
       "        [282746,      2],\n",
       "        [191150,      2],\n",
       "        [170701,      4],\n",
       "        [173256,      1],\n",
       "        [101870,      2],\n",
       "        [253317,      1],\n",
       "        [191150,      2],\n",
       "        [170701,      4],\n",
       "        [141574,      2],\n",
       "        [ 53033,      2],\n",
       "        [ 94854,      2],\n",
       "        [241683,      3],\n",
       "        [120943,      5],\n",
       "        [ 51934,      2],\n",
       "        [152002,      5],\n",
       "        [106348,      5],\n",
       "        [282411,      3],\n",
       "        [145735,      5],\n",
       "        [292180,      4],\n",
       "        [192391,      5],\n",
       "        [111312,      2],\n",
       "        [127994,      2],\n",
       "        [218633,      5],\n",
       "        [126946,      3],\n",
       "        [120943,      5],\n",
       "        [264992,      2],\n",
       "        [142679,      2],\n",
       "        [215809,      3],\n",
       "        [275746,      5],\n",
       "        [120943,      5],\n",
       "        [144209,      2],\n",
       "        [117360,      5],\n",
       "        [221649,      3],\n",
       "        [ 57347,      5],\n",
       "        [ 90574,      2],\n",
       "        [264695,      4],\n",
       "        [120943,      5],\n",
       "        [ 64864,      2],\n",
       "        [120943,      5],\n",
       "        [270323,      5],\n",
       "        [ 19454,      2],\n",
       "        [290651,      3],\n",
       "        [ 51785,      5],\n",
       "        [142580,      5],\n",
       "        [296754,      2],\n",
       "        [117360,      5],\n",
       "        [ 52412,      3],\n",
       "        [180970,      5],\n",
       "        [275746,      5],\n",
       "        [ 39464,      3],\n",
       "        [142580,      5],\n",
       "        [ 12254,      2],\n",
       "        [142679,      2],\n",
       "        [132144,      3],\n",
       "        [275746,      5],\n",
       "        [120943,      5],\n",
       "        [183794,      2],\n",
       "        [ 94854,      2],\n",
       "        [ 52412,      3],\n",
       "        [ 23163,      5],\n",
       "        [275746,      5],\n",
       "        [120943,      5],\n",
       "        [276462,      2],\n",
       "        [ 69480,      2],\n",
       "        [215809,      3],\n",
       "        [275746,      5],\n",
       "        [120943,      5],\n",
       "        [ 65735,      2],\n",
       "        [214004,      2],\n",
       "        [ 12235,      3],\n",
       "        [275746,      5],\n",
       "        [ 86510,      3],\n",
       "        [275746,      5],\n",
       "        [104143,      3],\n",
       "        [148735,      2],\n",
       "        [255680,      4],\n",
       "        [235641,      5],\n",
       "        [165248,      3],\n",
       "        [199199,      1],\n",
       "        [ 19463,      1],\n",
       "        [122080,      3],\n",
       "        [166536,      3],\n",
       "        [ 76173,      4],\n",
       "        [120943,      5],\n",
       "        [ 45012,      2],\n",
       "        [120943,      5],\n",
       "        [187968,      2],\n",
       "        [253055,      3],\n",
       "        [ 19776,      5],\n",
       "        [237223,      2],\n",
       "        [287795,      2],\n",
       "        [255680,      4],\n",
       "        [253317,      2],\n",
       "        [126946,      3],\n",
       "        [170208,      5],\n",
       "        [  7484,      2],\n",
       "        [225909,      2],\n",
       "        [255680,      4],\n",
       "        [289267,      2],\n",
       "        [126946,      3],\n",
       "        [119771,      2],\n",
       "        [289267,      2],\n",
       "        [159914,      3],\n",
       "        [170842,      3],\n",
       "        [142580,      5],\n",
       "        [223427,      2],\n",
       "        [151326,      2],\n",
       "        [253317,      2],\n",
       "        [206521,      3],\n",
       "        [142580,      5],\n",
       "        [154124,      1],\n",
       "        [ 51240,      2],\n",
       "        [142531,      4],\n",
       "        [120943,      5],\n",
       "        [194814,      2],\n",
       "        [ 94854,      2],\n",
       "        [178272,      3],\n",
       "        [147350,      5],\n",
       "        [120943,      5],\n",
       "        [ 49342,      2],\n",
       "        [152002,      5],\n",
       "        [ 84683,      2],\n",
       "        [ 43935,      3],\n",
       "        [142580,      5],\n",
       "        [108549,      2],\n",
       "        [ 55687,      4],\n",
       "        [256370,      5],\n",
       "        [105669,      2]])"
      ]
     },
     "execution_count": 96,
     "metadata": {},
     "output_type": "execute_result"
    }
   ],
   "source": [
    "numpy.matrix(x)"
   ]
  },
  {
   "cell_type": "code",
   "execution_count": null,
   "metadata": {
    "collapsed": true
   },
   "outputs": [],
   "source": []
  }
 ],
 "metadata": {
  "kernelspec": {
   "display_name": "Python 3",
   "language": "python",
   "name": "python3"
  },
  "language_info": {
   "codemirror_mode": {
    "name": "ipython",
    "version": 3
   },
   "file_extension": ".py",
   "mimetype": "text/x-python",
   "name": "python",
   "nbconvert_exporter": "python",
   "pygments_lexer": "ipython3",
   "version": "3.5.0"
  }
 },
 "nbformat": 4,
 "nbformat_minor": 0
}
